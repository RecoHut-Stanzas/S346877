{
  "cells": [
    {
      "cell_type": "markdown",
      "metadata": {
        "id": "view-in-github",
        "colab_type": "text"
      },
      "source": [
        "<a href=\"https://colab.research.google.com/github/RecoHut-Stanzas/S346877/blob/main/reports/S346877_report.ipynb\" target=\"_parent\"><img src=\"https://colab.research.google.com/assets/colab-badge.svg\" alt=\"Open In Colab\"/></a>"
      ]
    },
    {
      "cell_type": "markdown",
      "source": [
        "# Graph Meta Network for Multi-Behavior Recommendation"
      ],
      "metadata": {
        "id": "e3bUV0qG68Tz"
      }
    },
    {
      "cell_type": "markdown",
      "source": [
        "## Executive summary\n",
        "| | |\n",
        "| --- | --- |\n",
        "| Problem | Modern recommender systems often embed users and items into low-dimensional latent representations, based on their observed interactions. In practical recommendation scenarios, users often exhibit various intents which drive them to interact with items with multiple behavior types (e.g., click, tag-as-favorite, purchase). However, the diversity of user behaviors is ignored in most of the existing approaches, which makes them difficult to capture heterogeneous relational structures across different types of interactive behaviors. |\n",
        "| Prblm Stmt. | We define a three-way tensor $X \\in \\mathbb{R}^{𝐼×𝐽×𝐾}$ to reflect the multi-typed interaction (e.g., click, tag-as-favorite, purchase) between user ($𝑢_𝑖 \\in U$) and item ($𝑣_𝑗 \\in V$). Here, 𝐾 denotes the number of behavior types. Specifically, the individual element $𝑥_{i,j}^k \\in X$ is set as 1 if user $𝑢_𝑖$ interacts with item $𝑣_𝑗$ under the 𝑘-th behavior type, and $𝑘_{𝑖,𝑗}$ = 0 otherwise. In the multi-behavior recommendation scenario, one type of user-item interaction will be treated as target behavior (e.g., purchase). Other behaviors are referred to as context behaviors (e.g., click, tag-as-favorite, add-to-cart) for providing insightful knowledge in assisting the target behavior prediction. Based on the aforementioned definitions, we formally state our studied problem as: • Input: the observed multi-behavior interaction tensor $X \\in \\mathbb{R}^{𝐼×𝐽×𝐾}$ between users U and items V across 𝐾 behavior types. • Output: the predictive function which estimates the likelihood of user $𝑢_𝑖$ adopts the item $𝑣_𝑗$ with the target behavior type. |\n",
        "| Solution | Multi-Behavior recommendation framework with Graph Meta Network (MB-GMN) incorporate the multi-behavior pattern modeling into a meta-learning paradigm. Our developed MB-GMN empowers the user-item interaction learning with the capability of uncovering type-dependent behavior representations, which automatically distills the behavior heterogeneity and interaction diversity for recommendations. MB-GMN is composed of two key components: i) multi-behavior pattern encoding, a meta-knowledge learner that captures the personalized multi-behavior characteristics; ii) cross-type behavior dependency modeling, a transfer learning paradigm which learns a well-customized prediction network by transferring knowledge across different behavior types. |\n",
        "| Dataset | BeiBei. |\n",
        "| Preprocessing | Leave-one-out evaluation is leveraged for training and test set partition. We generate the test data set by including the last interactive item and consider the rest of data for training. For efficient and fair model evaluation, we pair each positive item instance with 99 randomly sampled non-interactive items for each user. We regard users’ purchases as the target behaviors. |\n",
        "| Metrics | NDCG, HR |\n",
        "| Models | MB-GMN |\n",
        "| Cluster | Python 3.6+, Tensorflow 1.x |\n",
        "| Tags | `MetaLearning`, `GNN` |\n",
        "| Credits | akaxlh |"
      ],
      "metadata": {
        "id": "bpPKhl0fzj2G"
      }
    },
    {
      "cell_type": "markdown",
      "source": [
        "## Model\n",
        "\n",
        "![The model architecture of MB-GMN. (a) Multi-behavior pattern modeling with meta-knowledge learner for behavior heterogeneity; (b) Meta graph neural network which preserves the behavior semantics with high-order connectivity; (c) Metaknowledge transfer networks that customize the parameter of prediction layer to capture cross-type behavior dependency.](https://github.com/RecoHut-Stanzas/S346877/raw/main/images/mbgmn_model.png)\n",
        "\n",
        "*The model architecture of MB-GMN. (a) Multi-behavior pattern modeling with meta-knowledge learner for behavior heterogeneity; (b) Meta graph neural network which preserves the behavior semantics with high-order connectivity; (c) Metaknowledge transfer networks that customize the parameter of prediction layer to capture cross-type behavior dependency.*\n",
        "\n",
        "## Tutorials\n",
        "\n",
        "### MB-GMN on BeiBei\n",
        "\n",
        "[direct link to notebook →](https://github.com/RecoHut-Stanzas/S346877/blob/main/nbs/P197505_MB_GMN_on_BeiBei.ipynb)\n",
        "\n",
        "![https://github.com/RecoHut-Stanzas/S346877/raw/main/images/process_flow.svg](https://github.com/RecoHut-Stanzas/S346877/raw/main/images/process_flow.svg)\n",
        "\n",
        "## References\n",
        "\n",
        "1. [https://github.com/RecoHut-Stanzas/S346877](https://github.com/RecoHut-Stanzas/S346877)\n",
        "2. [https://arxiv.org/abs/2110.03969v1](https://arxiv.org/abs/2110.03969v1)\n",
        "3. [https://github.com/akaxlh/MB-GMN](https://github.com/akaxlh/MB-GMN)"
      ],
      "metadata": {
        "id": "lIYdn1woOS1n"
      }
    }
  ],
  "metadata": {
    "colab": {
      "name": "scratchpad",
      "provenance": [],
      "include_colab_link": true
    },
    "kernelspec": {
      "display_name": "Python 3",
      "name": "python3"
    }
  },
  "nbformat": 4,
  "nbformat_minor": 0
}